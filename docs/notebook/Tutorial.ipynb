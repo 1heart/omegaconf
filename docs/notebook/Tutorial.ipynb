{
 "cells": [
  {
   "cell_type": "markdown",
   "metadata": {},
   "source": [
    "# Installation\n",
    "Just pip install:\n",
    "\n",
    "```pip install omegaconf```"
   ]
  },
  {
   "cell_type": "markdown",
   "metadata": {},
   "source": [
    "# Basic example\n",
    "We will use this simple example.yaml file:"
   ]
  },
  {
   "cell_type": "code",
   "execution_count": null,
   "metadata": {},
   "outputs": [],
   "source": [
    "%load 'docs/source/example.yaml'"
   ]
  },
  {
   "cell_type": "markdown",
   "metadata": {},
   "source": [
    "## Loading a file"
   ]
  },
  {
   "cell_type": "code",
   "execution_count": 2,
   "metadata": {},
   "outputs": [
    {
     "data": {
      "text/plain": [
       "{'server': {'port': 80}, 'log': {'file': 'log.txt', 'rotation': 3600}}"
      ]
     },
     "execution_count": 2,
     "metadata": {},
     "output_type": "execute_result"
    }
   ],
   "source": [
    "from omegaconf import OmegaConf\n",
    "conf = OmegaConf.from_filename('docs/source/example.yaml')\n",
    "conf"
   ]
  },
  {
   "cell_type": "markdown",
   "metadata": {},
   "source": [
    "## Reading values"
   ]
  },
  {
   "cell_type": "code",
   "execution_count": 3,
   "metadata": {},
   "outputs": [
    {
     "data": {
      "text/plain": [
       "80"
      ]
     },
     "execution_count": 3,
     "metadata": {},
     "output_type": "execute_result"
    }
   ],
   "source": [
    "# Object style access\n",
    "conf.server.port"
   ]
  },
  {
   "cell_type": "code",
   "execution_count": 4,
   "metadata": {},
   "outputs": [
    {
     "data": {
      "text/plain": [
       "{'file': 'log.txt', 'rotation': 3600}"
      ]
     },
     "execution_count": 4,
     "metadata": {},
     "output_type": "execute_result"
    }
   ],
   "source": [
    "# Map style access\n",
    "conf['log']"
   ]
  },
  {
   "cell_type": "markdown",
   "metadata": {},
   "source": [
    "## Reading with default values:\n",
    "You can easily provide a default value to use if the object is missing a key:"
   ]
  },
  {
   "cell_type": "code",
   "execution_count": 5,
   "metadata": {},
   "outputs": [
    {
     "data": {
      "text/plain": [
       "'a default value'"
      ]
     },
     "execution_count": 5,
     "metadata": {},
     "output_type": "execute_result"
    }
   ],
   "source": [
    "conf.missing_key or 'a default value'"
   ]
  },
  {
   "cell_type": "code",
   "execution_count": 6,
   "metadata": {},
   "outputs": [
    {
     "data": {
      "text/plain": [
       "'a default value'"
      ]
     },
     "execution_count": 6,
     "metadata": {},
     "output_type": "execute_result"
    }
   ],
   "source": [
    "conf.get('missing_key', 'a default value')"
   ]
  },
  {
   "cell_type": "markdown",
   "metadata": {},
   "source": [
    "## Manipulating config:"
   ]
  },
  {
   "cell_type": "code",
   "execution_count": 7,
   "metadata": {},
   "outputs": [],
   "source": [
    "# Changing existing keys\n",
    "conf.server.port = 81\n",
    "# Adding new keys\n",
    "conf.server.hostname = \"localhost\"\n",
    "# Or new sections\n",
    "conf.database = {'hostname': 'database01', 'port': 3306}"
   ]
  },
  {
   "cell_type": "markdown",
   "metadata": {},
   "source": [
    "# Creating OmegaConf objects\n",
    "## Empty config"
   ]
  },
  {
   "cell_type": "code",
   "execution_count": 8,
   "metadata": {},
   "outputs": [
    {
     "data": {
      "text/plain": [
       "{'a': {'key': 'value'}}"
      ]
     },
     "execution_count": 8,
     "metadata": {},
     "output_type": "execute_result"
    }
   ],
   "source": [
    "conf = OmegaConf.empty()\n",
    "conf.a = {'key' :'value'}\n",
    "conf"
   ]
  },
  {
   "cell_type": "markdown",
   "metadata": {},
   "source": [
    "## From filename"
   ]
  },
  {
   "cell_type": "code",
   "execution_count": 9,
   "metadata": {},
   "outputs": [
    {
     "data": {
      "text/plain": [
       "{'server': {'port': 80}, 'log': {'file': 'log.txt', 'rotation': 3600}}"
      ]
     },
     "execution_count": 9,
     "metadata": {},
     "output_type": "execute_result"
    }
   ],
   "source": [
    "conf = OmegaConf.from_filename('docs/source/example.yaml')\n",
    "conf"
   ]
  },
  {
   "cell_type": "markdown",
   "metadata": {},
   "source": [
    "## From file"
   ]
  },
  {
   "cell_type": "code",
   "execution_count": 10,
   "metadata": {},
   "outputs": [
    {
     "data": {
      "text/plain": [
       "{'server': {'port': 80}, 'log': {'file': 'log.txt', 'rotation': 3600}}"
      ]
     },
     "execution_count": 10,
     "metadata": {},
     "output_type": "execute_result"
    }
   ],
   "source": [
    "import io\n",
    "file = io.open('docs/source/example.yaml', 'r')\n",
    "conf = OmegaConf.from_file(file)\n",
    "conf"
   ]
  },
  {
   "cell_type": "markdown",
   "metadata": {},
   "source": [
    "## From CLI arguments\n",
    "\n",
    "from_cli() will parse anything in sys.argv. Note that if you want to use this with a CLI parser, it will have to clear anything it already parsed from sys.argv before you initialize the conf from_cli().\n",
    "You can also pass a list of arguments directly.\n",
    "\n",
    "You can use dot notation to create nested elements."
   ]
  },
  {
   "cell_type": "code",
   "execution_count": 11,
   "metadata": {},
   "outputs": [
    {
     "data": {
      "text/plain": [
       "{'key': 'value', 'parent': {'child': 2}}"
      ]
     },
     "execution_count": 11,
     "metadata": {},
     "output_type": "execute_result"
    }
   ],
   "source": [
    "# Parse sys.argv:\n",
    "conf = OmegaConf.from_cli()\n",
    "\n",
    "# Parse given list:\n",
    "arguments = ['key=value', 'parent.child=2']\n",
    "conf = OmegaConf.from_cli(arguments)\n",
    "conf"
   ]
  },
  {
   "cell_type": "code",
   "execution_count": 12,
   "metadata": {},
   "outputs": [
    {
     "data": {
      "text/plain": [
       "{'yaml_string': 'can', 'be': ['loaded', 'directly']}"
      ]
     },
     "execution_count": 12,
     "metadata": {},
     "output_type": "execute_result"
    }
   ],
   "source": [
    "yaml_string = \"\"\"\n",
    "yaml_string: can\n",
    "be:\n",
    "  - loaded\n",
    "  - directly\n",
    "\"\"\"\n",
    "conf = OmegaConf.from_string(yaml_string)\n",
    "conf"
   ]
  },
  {
   "cell_type": "markdown",
   "metadata": {},
   "source": [
    "# Layering OmegaConf objects\n",
    "OmegaConf can be created from files, from cli from strings etc.\n",
    "\n",
    "You can combine configurations, regardless of their source.\n",
    "\n",
    "Here are a few examples where you might want to merge different configurations:\n",
    "\n",
    "* You want to use more than one configuration file but access them uniformly through the same object\n",
    "* You want to override some configuration in a file with that from another file\n",
    "* You want to override configuration using command line arguments\n",
    "\n",
    "We will use two configuration files:"
   ]
  },
  {
   "cell_type": "code",
   "execution_count": null,
   "metadata": {},
   "outputs": [],
   "source": [
    "%load 'docs/source/example.yaml'"
   ]
  },
  {
   "cell_type": "code",
   "execution_count": null,
   "metadata": {},
   "outputs": [],
   "source": [
    "%load 'docs/source/example2.yaml'"
   ]
  },
  {
   "cell_type": "markdown",
   "metadata": {},
   "source": [
    "We will overlay example2.yaml on top of example.yaml, combining them and overridng example.yaml when there is a conflict:"
   ]
  },
  {
   "cell_type": "code",
   "execution_count": 15,
   "metadata": {},
   "outputs": [
    {
     "data": {
      "text/plain": [
       "81"
      ]
     },
     "execution_count": 15,
     "metadata": {},
     "output_type": "execute_result"
    }
   ],
   "source": [
    "conf1 = OmegaConf.from_filename('docs/source/example.yaml')\n",
    "conf2 = OmegaConf.from_filename('docs/source/example2.yaml')\n",
    "conf = OmegaConf.merge(conf1, conf2)\n",
    "conf.server.port"
   ]
  },
  {
   "cell_type": "code",
   "execution_count": 16,
   "metadata": {},
   "outputs": [
    {
     "data": {
      "text/plain": [
       "{'port': 3306, 'host': 'dbhost'}"
      ]
     },
     "execution_count": 16,
     "metadata": {},
     "output_type": "execute_result"
    }
   ],
   "source": [
    "conf.database"
   ]
  },
  {
   "cell_type": "markdown",
   "metadata": {},
   "source": [
    "# Merging file with CLI args\n",
    "Now let’s try overriding conf1 above with parameters from the command line: For simplicity, we will simulate command line arguments by setting sys.argv."
   ]
  },
  {
   "cell_type": "code",
   "execution_count": 17,
   "metadata": {},
   "outputs": [
    {
     "data": {
      "text/plain": [
       "82"
      ]
     },
     "execution_count": 17,
     "metadata": {},
     "output_type": "execute_result"
    }
   ],
   "source": [
    "import sys\n",
    "conf1 = OmegaConf.from_filename('docs/source/example.yaml')\n",
    "# Simulate command line arguments\n",
    "sys.argv = ['program.py', 'server.port=82', 'log.file=log2.txt']\n",
    "cli = OmegaConf.from_cli()\n",
    "conf = OmegaConf.merge(conf1, cli)\n",
    "conf.server.port"
   ]
  },
  {
   "cell_type": "code",
   "execution_count": 18,
   "metadata": {},
   "outputs": [
    {
     "data": {
      "text/plain": [
       "'log2.txt'"
      ]
     },
     "execution_count": 18,
     "metadata": {},
     "output_type": "execute_result"
    }
   ],
   "source": [
    "conf.log.file"
   ]
  },
  {
   "cell_type": "markdown",
   "metadata": {},
   "source": [
    "# Putting it all together\n",
    "OmegaConf.merge() can take any number of configuration objects, layering them one on top of the other in order.\n",
    "For example, you could load two files, layer them one on top of the other, followed by the CLI arguments:"
   ]
  },
  {
   "cell_type": "code",
   "execution_count": 19,
   "metadata": {},
   "outputs": [
    {
     "data": {
      "text/plain": [
       "{'server': {'port': 9999}, 'log': {'file': 'log2.txt', 'rotation': 3600}, 'database': {'port': 3306, 'host': 'dbhost'}}"
      ]
     },
     "execution_count": 19,
     "metadata": {},
     "output_type": "execute_result"
    }
   ],
   "source": [
    "conf1 = OmegaConf.from_filename('docs/source/example.yaml')\n",
    "conf2 = OmegaConf.from_filename('docs/source/example2.yaml')\n",
    "sys.argv = ['program.py', 'server.port=9999', 'log.file=log2.txt']\n",
    "cli = OmegaConf.from_cli()\n",
    "conf = OmegaConf.merge(conf1, conf2, cli)\n",
    "conf"
   ]
  },
  {
   "cell_type": "code",
   "execution_count": null,
   "metadata": {},
   "outputs": [],
   "source": []
  }
 ],
 "metadata": {
  "kernelspec": {
   "display_name": "Python 3",
   "language": "python",
   "name": "python3"
  },
  "language_info": {
   "codemirror_mode": {
    "name": "ipython",
    "version": 3
   },
   "file_extension": ".py",
   "mimetype": "text/x-python",
   "name": "python",
   "nbconvert_exporter": "python",
   "pygments_lexer": "ipython3",
   "version": "3.7.3"
  }
 },
 "nbformat": 4,
 "nbformat_minor": 2
}
